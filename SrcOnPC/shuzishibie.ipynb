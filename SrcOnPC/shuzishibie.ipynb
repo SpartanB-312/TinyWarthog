{
 "cells": [
  {
   "cell_type": "code",
   "execution_count": 11,
   "metadata": {},
   "outputs": [],
   "source": [
    "# 导入必要的包\n",
    "from imutils.perspective import four_point_transform\n",
    "from imutils import contours\n",
    "import imutils\n",
    "import cv2"
   ]
  },
  {
   "cell_type": "code",
   "execution_count": 12,
   "metadata": {},
   "outputs": [],
   "source": [
    "# 定义Python字典，代表0~9数字的七段数组\n",
    "DIGITS_LOOKUP = {\n",
    "    (1, 1, 1, 0, 1, 1, 1): 0,\n",
    "    (0, 0, 1, 0, 0, 1, 0): 1,\n",
    "    (1, 0, 1, 1, 1, 0, 1): 2,\n",
    "    (1, 0, 1, 1, 0, 1, 1): 3,\n",
    "    (0, 1, 1, 1, 0, 1, 0): 4,\n",
    "    (1, 1, 0, 1, 0, 1, 1): 5,\n",
    "    (1, 1, 0, 1, 1, 1, 1): 6,\n",
    "    (1, 0, 1, 0, 0, 1, 0): 7,\n",
    "    (1, 1, 1, 1, 1, 1, 1): 8,\n",
    "    (1, 1, 1, 1, 0, 1, 1): 9\n",
    "}\n",
    "# 加载图像\n",
    "image = cv2.imread('F:\\\\pics\\clock1.png')"
   ]
  },
  {
   "cell_type": "code",
   "execution_count": 13,
   "metadata": {},
   "outputs": [],
   "source": [
    "# 1. LCD边缘可见\n",
    "# 预处理步骤：保持宽高比的缩放，转换灰度，高斯模糊以减少高频噪音，Canny边缘检测器计算边缘图\n",
    "image = imutils.resize(image, height=500)\n",
    "gray = cv2.cvtColor(image, cv2.COLOR_BGR2GRAY)\n",
    "blurred = cv2.GaussianBlur(gray, (5, 5), 0)\n",
    "edged = cv2.Canny(blurred, 50, 200, 255)"
   ]
  },
  {
   "cell_type": "code",
   "execution_count": 14,
   "metadata": {},
   "outputs": [],
   "source": [
    "# 2. 提取LCD本身\n",
    "# 在边缘图中寻找轮廓，并按面积大小倒序排列\n",
    "cnts = cv2.findContours(edged.copy(), cv2.RETR_EXTERNAL,\n",
    "                        cv2.CHAIN_APPROX_SIMPLE)\n",
    "cnts = imutils.grab_contours(cnts)\n",
    "cnts = sorted(cnts, key=cv2.contourArea, reverse=True)\n",
    "displayCnt = None\n",
    "\n",
    "# 遍历轮廓\n",
    "for c in cnts:\n",
    "    # 应用轮廓近似\n",
    "    peri = cv2.arcLength(c, True)\n",
    "    approx = cv2.approxPolyDP(c, 0.02 * peri, True)\n",
    " \n",
    "    # 如果边缘有4个顶点（vertices），则找到了恒温器并展示\n",
    "    if len(approx) == 4:\n",
    "        displayCnt = approx\n",
    "        break\n",
    " \n",
    "# 获得四个顶点后，可以通过四点透视变换提取LCD\n",
    "# 提取恒温器，应用透视变换获得从上至下鸟瞰LCD图\n",
    "warped = four_point_transform(gray, displayCnt.reshape(4, 2))\n",
    "output = four_point_transform(image, displayCnt.reshape(4, 2))"
   ]
  },
  {
   "cell_type": "code",
   "execution_count": 15,
   "metadata": {},
   "outputs": [],
   "source": [
    "# 3. 从LCD提取数字\n",
    "# 阈值化透视变换后的图以在较亮的背景（即LCD显示屏的背景）上显示出较暗的区域（即数字）；\n",
    "# 应用一系列形态学运算来清理阈值图像\n",
    "thresh = cv2.threshold(warped, 0, 255,\n",
    "                       cv2.THRESH_BINARY_INV | cv2.THRESH_OTSU)[1]\n",
    "kernel = cv2.getStructuringElement(cv2.MORPH_ELLIPSE, (1, 5))\n",
    "thresh = cv2.morphologyEx(thresh, cv2.MORPH_OPEN, kernel)\n",
    " \n",
    "# 应用轮廓过滤，寻找实际的数字\n",
    "# 在阈值图像上寻找轮廓，并初始化数字轮廓lists\n",
    "cnts = cv2.findContours(thresh.copy(), cv2.RETR_EXTERNAL,\n",
    "                        cv2.CHAIN_APPROX_SIMPLE)\n",
    "cnts = imutils.grab_contours(cnts)\n",
    "digitCnts = []\n",
    " \n",
    "# 遍历数字候选区域\n",
    "for c in cnts:\n",
    "    # 计算轮廓的边界框\n",
    "    (x, y, w, h) = cv2.boundingRect(c)\n",
    " \n",
    "    # 确定适当的宽度和高度约束需要几轮反复试验。建议循环遍历每个轮廓，分别绘制它们，并检查其尺寸。执行此过程可确保找到数字轮廓属性的共同点。\n",
    "    # 如果轮廓足够大，则它是一个数字\n",
    "    if w >= 15 and (h >= 30 and h <= 40):\n",
    "        digitCnts.append(c)"
   ]
  },
  {
   "cell_type": "code",
   "execution_count": 16,
   "metadata": {},
   "outputs": [
    {
     "ename": "KeyError",
     "evalue": "(0, 1, 1, 0, 0, 1, 0)",
     "output_type": "error",
     "traceback": [
      "\u001b[1;31m---------------------------------------------------------------------------\u001b[0m",
      "\u001b[1;31mKeyError\u001b[0m                                  Traceback (most recent call last)",
      "\u001b[1;32m<ipython-input-16-6466af4051e1>\u001b[0m in \u001b[0;36m<module>\u001b[1;34m\u001b[0m\n\u001b[0;32m     41\u001b[0m \u001b[1;33m\u001b[0m\u001b[0m\n\u001b[0;32m     42\u001b[0m     \u001b[1;31m# 查找digit并显示在图像上\u001b[0m\u001b[1;33m\u001b[0m\u001b[1;33m\u001b[0m\u001b[1;33m\u001b[0m\u001b[0m\n\u001b[1;32m---> 43\u001b[1;33m     \u001b[0mdigit\u001b[0m \u001b[1;33m=\u001b[0m \u001b[0mDIGITS_LOOKUP\u001b[0m\u001b[1;33m[\u001b[0m\u001b[0mtuple\u001b[0m\u001b[1;33m(\u001b[0m\u001b[0mon\u001b[0m\u001b[1;33m)\u001b[0m\u001b[1;33m]\u001b[0m\u001b[1;33m\u001b[0m\u001b[1;33m\u001b[0m\u001b[0m\n\u001b[0m\u001b[0;32m     44\u001b[0m     \u001b[0mdigits\u001b[0m\u001b[1;33m.\u001b[0m\u001b[0mappend\u001b[0m\u001b[1;33m(\u001b[0m\u001b[0mdigit\u001b[0m\u001b[1;33m)\u001b[0m\u001b[1;33m\u001b[0m\u001b[1;33m\u001b[0m\u001b[0m\n\u001b[0;32m     45\u001b[0m     \u001b[0mcv2\u001b[0m\u001b[1;33m.\u001b[0m\u001b[0mrectangle\u001b[0m\u001b[1;33m(\u001b[0m\u001b[0moutput\u001b[0m\u001b[1;33m,\u001b[0m \u001b[1;33m(\u001b[0m\u001b[0mx\u001b[0m\u001b[1;33m,\u001b[0m \u001b[0my\u001b[0m\u001b[1;33m)\u001b[0m\u001b[1;33m,\u001b[0m \u001b[1;33m(\u001b[0m\u001b[0mx\u001b[0m \u001b[1;33m+\u001b[0m \u001b[0mw\u001b[0m\u001b[1;33m,\u001b[0m \u001b[0my\u001b[0m \u001b[1;33m+\u001b[0m \u001b[0mh\u001b[0m\u001b[1;33m)\u001b[0m\u001b[1;33m,\u001b[0m \u001b[1;33m(\u001b[0m\u001b[1;36m0\u001b[0m\u001b[1;33m,\u001b[0m \u001b[1;36m255\u001b[0m\u001b[1;33m,\u001b[0m \u001b[1;36m0\u001b[0m\u001b[1;33m)\u001b[0m\u001b[1;33m,\u001b[0m \u001b[1;36m1\u001b[0m\u001b[1;33m)\u001b[0m\u001b[1;33m\u001b[0m\u001b[1;33m\u001b[0m\u001b[0m\n",
      "\u001b[1;31mKeyError\u001b[0m: (0, 1, 1, 0, 0, 1, 0)"
     ]
    }
   ],
   "source": [
    "# 4. 实际识别每个数字\n",
    "# 从左到右排序轮廓，并初始化实际的数字列表\n",
    "digitCnts = contours.sort_contours(digitCnts,\n",
    "                                   method=\"left-to-right\")[0]\n",
    "digits = []\n",
    " \n",
    "# 遍历每一个数字\n",
    "for c in digitCnts:\n",
    "    # 提取数字ROI区域\n",
    "    (x, y, w, h) = cv2.boundingRect(c)\n",
    "    roi = thresh[y:y + h, x:x + w]\n",
    " \n",
    "    # 计算每一个七段部分的宽度、高度\n",
    "    (roiH, roiW) = roi.shape\n",
    "    (dW, dH) = (int(roiW * 0.25), int(roiH * 0.15))\n",
    "    dHC = int(roiH * 0.05)\n",
    " \n",
    "    # 定义七段的集合\n",
    "    # 根据ROI尺寸计算出每个段的近似宽度和高度。\n",
    "    segments = [\n",
    "        ((0, 0), (w, dH)),  # top\n",
    "        ((0, 0), (dW, h // 2)),  # top-left\n",
    "        ((w - dW, 0), (w, h // 2)),  # top-right\n",
    "        ((0, (h // 2) - dHC), (w, (h // 2) + dHC)),  # center\n",
    "        ((0, h // 2), (dW, h)),  # bottom-left\n",
    "        ((w - dW, h // 2), (w, h)),  # bottom-right\n",
    "        ((0, h - dH), (w, h))  # bottom\n",
    "    ]\n",
    "    on = [0] * len(segments)\n",
    " \n",
    "    # 遍历分段部分\n",
    "    for (i, ((xA, yA), (xB, yB))) in enumerate(segments):\n",
    "        # 提取分段ROI，计算segment的面积，并计算每个线段的非零像素总值\n",
    "        segROI = roi[yA:yB, xA:xB]\n",
    "        total = cv2.countNonZero(segROI)\n",
    "        area = (xB - xA) * (yB - yA)\n",
    " \n",
    "        # 如果非0像素的总数大于面积的50%，则认为分段是打开的\n",
    "        if total / float(area) > 0.5:\n",
    "            on[i] = 1\n",
    " \n",
    "    # 查找digit并显示在图像上\n",
    "    digit = DIGITS_LOOKUP[tuple(on)]\n",
    "    digits.append(digit)\n",
    "    cv2.rectangle(output, (x, y), (x + w, y + h), (0, 255, 0), 1)\n",
    "    cv2.putText(output, str(digit), (x - 10, y - 10),\n",
    "                cv2.FONT_HERSHEY_SIMPLEX, 0.65, (0, 255, 0), 2)"
   ]
  }
 ],
 "metadata": {
  "kernelspec": {
   "display_name": "Python 3",
   "language": "python",
   "name": "python3"
  },
  "language_info": {
   "codemirror_mode": {
    "name": "ipython",
    "version": 3
   },
   "file_extension": ".py",
   "mimetype": "text/x-python",
   "name": "python",
   "nbconvert_exporter": "python",
   "pygments_lexer": "ipython3",
   "version": "3.8.7"
  },
  "orig_nbformat": 4
 },
 "nbformat": 4,
 "nbformat_minor": 2
}
